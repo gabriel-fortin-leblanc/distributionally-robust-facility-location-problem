{
 "cells": [
  {
   "cell_type": "markdown",
   "id": "c71587f6-ca57-437f-82c5-bb46a21745e9",
   "metadata": {},
   "source": [
    "# Report\n",
    "\n",
    "This notebook is used for generating figures for the report of the project."
   ]
  },
  {
   "cell_type": "code",
   "execution_count": null,
   "id": "358670f8-3e37-4f1c-96fe-d7f8647d09f3",
   "metadata": {},
   "outputs": [],
   "source": [
    "import numpy as np\n",
    "import matplotlib.pyplot as plt\n",
    "from ddro import pg, solvers, benchmark\n",
    "import os\n",
    "\n",
    "FIGURE_DIR = os.path.join(\"..\", \"doc\", \"figure\")"
   ]
  },
  {
   "cell_type": "markdown",
   "id": "0c818cb0-5419-4383-ad18-bbd2d4749f22",
   "metadata": {},
   "source": [
    "## Situation 1"
   ]
  },
  {
   "cell_type": "code",
   "execution_count": null,
   "id": "6047253a-ce30-4af0-8773-e16f68124eec",
   "metadata": {},
   "outputs": [],
   "source": [
    "# Reproducibility\n",
    "np.random.seed(1234)\n",
    "\n",
    "flp."
   ]
  }
 ],
 "metadata": {
  "kernelspec": {
   "display_name": "ddro",
   "language": "python",
   "name": "ddro"
  },
  "language_info": {
   "codemirror_mode": {
    "name": "ipython",
    "version": 3
   },
   "file_extension": ".py",
   "mimetype": "text/x-python",
   "name": "python",
   "nbconvert_exporter": "python",
   "pygments_lexer": "ipython3",
   "version": "3.12.3"
  }
 },
 "nbformat": 4,
 "nbformat_minor": 5
}
